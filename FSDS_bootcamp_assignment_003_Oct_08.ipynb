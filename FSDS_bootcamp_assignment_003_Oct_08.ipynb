{
  "nbformat": 4,
  "nbformat_minor": 0,
  "metadata": {
    "colab": {
      "provenance": [],
      "collapsed_sections": [],
      "toc_visible": true,
      "include_colab_link": true
    },
    "kernelspec": {
      "name": "python3",
      "display_name": "Python 3"
    },
    "language_info": {
      "name": "python"
    }
  },
  "cells": [
    {
      "cell_type": "markdown",
      "metadata": {
        "id": "view-in-github",
        "colab_type": "text"
      },
      "source": [
        "<a href=\"https://colab.research.google.com/github/amanjaglan12/i_neuron_Assignments/blob/main/FSDS_bootcamp_assignment_003_Oct_08.ipynb\" target=\"_parent\"><img src=\"https://colab.research.google.com/assets/colab-badge.svg\" alt=\"Open In Colab\"/></a>"
      ]
    },
    {
      "cell_type": "markdown",
      "source": [
        "# ASSIGNMENTS - Compulsory\n",
        "## Send it before 0000 hrs IST or 12 AM Wednesday\n",
        "\n",
        "## NOTE: Evaluation will be done before next class.\n",
        "\n",
        "## HOW TO SUBMIT: -\n",
        "Download this notebook, Solve it and upload in the google form given in the mail."
      ],
      "metadata": {
        "id": "cyOfbWCdOjEr"
      }
    },
    {
      "cell_type": "markdown",
      "source": [
        "## Python String Manipulation\n",
        "\n",
        "1. Count the number of times `iNeuron` appears in the string.\n",
        "```python\n",
        "text = \"Welcome to iNeuron, You are a part of FSDS Bootcamp 2 in iNeuron. I hope you are enjoying the course by iNeuron\"\n",
        "```\n",
        "2. Check if position `5` to `11` ends with the phrase `iNeuron.` in the string \n",
        "```python\n",
        "txt = \"Hello, welcome to FSDS 2.0 at iNeuron.\"\n",
        "```\n",
        "3. Write a program that takes your full name as input and displays the abbreviations of the first and middle names except the last name which is displayed as it is. For example, if your name is Sunny Bhaveen Chandra, then the output should be S.B.Chandra.\n",
        "\n",
        "4. Join all items in a list into a string, using a hash(`#`) character as separator:\n",
        "```python\n",
        "LIST = [\"My\", \"name\", \"is\", \"Rishav\", \"Dash\"]\n",
        "```\n",
        "5. Write example for the following string manipulation function,\n",
        "\n",
        "  ```\n",
        "  - isdecimal()\n",
        "  - islower()\n",
        "  - isupper()\n",
        "  - isalpha()\n",
        "  - isnumeric()\n",
        "\n",
        "  ```\n",
        "6. Indian PAN card format follows the following formats - \n",
        "    - `AYEPC7894X`\n",
        "    - `ABCDE9999Y`\n",
        "  Take user input for PAN_CARD and validate as per the above example.\n"
      ],
      "metadata": {
        "id": "GT4IytkJMNa-"
      }
    },
    {
      "cell_type": "markdown",
      "source": [
        "# **ANSWERS**"
      ],
      "metadata": {
        "id": "ADV5mImG9dMv"
      }
    },
    {
      "cell_type": "markdown",
      "source": [
        "### QUES.NO.1 Count the number of times `iNeuron` appears in the string.\n",
        "```python\n",
        "text = \"Welcome to iNeuron, You are a part of FSDS Bootcamp 2 in iNeuron. I hope you are enjoying the course by iNeuron\"\n",
        "```"
      ],
      "metadata": {
        "id": "F5M_bkUv9cLO"
      }
    },
    {
      "cell_type": "code",
      "source": [
        "text = \"Welcome to iNeuron, You are a part of FSDS Bootcamp 2 in iNeuron. I hope you are enjoying the course by iNeuron\"\n",
        "X = text.count(\"iNeuron\")\n",
        "print(f\"Number of times \\\"iNeuron\\\" come in the given text is: {X}\")"
      ],
      "metadata": {
        "id": "lyAtuuR3-F19",
        "outputId": "235ddd4a-65b0-48c9-f617-056d3cb0eebf",
        "colab": {
          "base_uri": "https://localhost:8080/"
        }
      },
      "execution_count": 8,
      "outputs": [
        {
          "output_type": "stream",
          "name": "stdout",
          "text": [
            "Number of times \"iNeuron\" come in the given text is: 3\n"
          ]
        }
      ]
    },
    {
      "cell_type": "markdown",
      "source": [
        "### QUES.NO.2 Check if position `5` to `11` ends with the phrase `iNeuron.` in the string \n",
        "```python\n",
        "txt = \"Hello, welcome to FSDS 2.0 at iNeuron.\"\n",
        "```\n",
        "\n",
        "```\n",
        "# This is formatted as code\n",
        "```\n",
        "\n"
      ],
      "metadata": {
        "id": "ftAaX2DsA_2O"
      }
    },
    {
      "cell_type": "code",
      "source": [
        "# check the string using index function\n",
        "txt = \"Hello, welcome to FSDS 2.0 at iNeuron.\"\n",
        "if txt[5:11] == \"iNeuron\":\n",
        "    print(f\"The str. from 5 to 11 is:\\\"{txt[5:11]}\\\" Therefore TRUE\")\n",
        "else:\n",
        "    print(f\"The str. from 5 to 11 is:\\\"{txt[5:11]}\\\" Therefore FALSE\")"
      ],
      "metadata": {
        "id": "vYpeZrO8BOyw",
        "outputId": "405c5837-a4cd-4494-f90b-032ab0b9fe12",
        "colab": {
          "base_uri": "https://localhost:8080/"
        }
      },
      "execution_count": 12,
      "outputs": [
        {
          "output_type": "stream",
          "name": "stdout",
          "text": [
            "The str. from 5 to 11 is:\", welc\" Therefore FALSE\n"
          ]
        }
      ]
    },
    {
      "cell_type": "markdown",
      "source": [
        "### QUES.NO.3 Write a program that takes your full name as input and displays the abbreviations of the first and middle names except the last name which is displayed as it is. For example, if your name is Sunny Bhaveen Chandra, then the output should be S.B.Chandra."
      ],
      "metadata": {
        "id": "fPqTsKrEEGK4"
      }
    },
    {
      "cell_type": "code",
      "source": [
        "fullname = input(\"Enter full name: \")\n",
        "fullname = fullname.title()\n",
        "f_name, m_name, l_name = fullname.split(\" \")\n",
        "print(f\"Your Abbreviated Name is: {f_name[0]}.{m_name[0]}.{l_name}\")"
      ],
      "metadata": {
        "id": "zOBAFLwkCBJZ"
      },
      "execution_count": null,
      "outputs": []
    },
    {
      "cell_type": "markdown",
      "source": [],
      "metadata": {
        "id": "F1woEQ1rKUn1"
      }
    },
    {
      "cell_type": "markdown",
      "source": [
        "### QUES.NO.4 Join all items in a list into a string, using a hash(`#`) character as separator:\n",
        "```python\n",
        "LIST = [\"My\", \"name\", \"is\", \"Rishav\", \"Dash\"]\n",
        "```"
      ],
      "metadata": {
        "id": "D1euAJgDKZGx"
      }
    },
    {
      "cell_type": "code",
      "source": [
        "LIST = [\"My\", \"name\", \"is\", \"Rishav\", \"Dash\"]\n",
        "new_LIST = \"#\".join(LIST)\n",
        "print(f\"The output after joining is: {new_LIST} \")"
      ],
      "metadata": {
        "id": "KbGOcmktGoSb",
        "outputId": "a66991af-f688-47fd-8b81-d2b1e24260b9",
        "colab": {
          "base_uri": "https://localhost:8080/"
        }
      },
      "execution_count": 23,
      "outputs": [
        {
          "output_type": "stream",
          "name": "stdout",
          "text": [
            "The output after joining is: My#name#is#Rishav#Dash \n"
          ]
        }
      ]
    },
    {
      "cell_type": "markdown",
      "source": [
        "### QUES.NO.5 Write example for the following string manipulation function,\n",
        "\n",
        "  ```\n",
        "  - isdecimal()\n",
        "  - islower()\n",
        "  - isupper()\n",
        "  - isalpha()\n",
        "  - isnumeric()\n",
        "\n",
        "  ```"
      ],
      "metadata": {
        "id": "FG4WsaB1P5bn"
      }
    },
    {
      "cell_type": "code",
      "source": [
        "A = [\"123.50\",\"abcd\",\"ABCD\",\"Aman\",\"78695\",\"3SWORDSTYLE\",\"  \"]\n",
        "print(f\"\"\"Example of isdecimal(): {A[0]} is {A[0].isdecimal()}\n",
        "      Example of islower(): {A[1]} is {A[1].islower()}\n",
        "      Example of isupper(): {A[2]} is {A[2].isupper()}\n",
        "      Example of isalpha(): {A[3]} is {A[3].isalpha()}\n",
        "      Example of isnumeric(): {A[4]} is {A[4].isnumeric()}\n",
        "      Example of isalnum(): {A[5]} is {A[5].isalnum()}\n",
        "      Example of isspace(): {A[6]} is {A[6].isspace()}\"\"\")"
      ],
      "metadata": {
        "id": "pIeA8Kb_J8ru",
        "outputId": "32287906-e2d2-4748-eb7f-b7efab12a1a6",
        "colab": {
          "base_uri": "https://localhost:8080/"
        }
      },
      "execution_count": 24,
      "outputs": [
        {
          "output_type": "stream",
          "name": "stdout",
          "text": [
            "Example of isdecimal(): 123.50 is False\n",
            "      Example of islower(): abcd is True\n",
            "      Example of isupper(): ABCD is True\n",
            "      Example of isalpha(): Aman is True\n",
            "      Example of isnumeric(): 78695 is True\n",
            "      Example of isalnum(): 3SWORDSTYLE is True\n",
            "      Example of isspace():    is True\n"
          ]
        }
      ]
    },
    {
      "cell_type": "markdown",
      "source": [
        "### QUES.NO.6 Indian PAN card format follows the following formats - \n",
        "    - `AYEPC7894X`\n",
        "    - `ABCDE9999Y`\n",
        "  Take user input for PAN_CARD and validate as per the above example."
      ],
      "metadata": {
        "id": "nfWFEhfCQJx5"
      }
    },
    {
      "cell_type": "code",
      "source": [
        "# I've tried two methods for this solution\n",
        "# SOLUTION #1\n",
        "pan_num = input(\"Enter your PAN Card Number: \")\n",
        "pan_num = pan_num.upper()\n",
        "if len(pan_num) == 10 and pan_num.isalnum() and pan_num[0:5].isalpha() and pan_num[5:9].isdigit() and pan_num[9].isalpha():\n",
        " print(f\"Your PAN CARD number \\\"{pan_num}\\\" is VALID\")\n",
        "else:\n",
        "    print(f\"Your Input is INCORRECT!\")\n",
        "    print(f\"Enter a valid number\")"
      ],
      "metadata": {
        "id": "Z4SFwjf1Pylk",
        "outputId": "9bd4d585-14b6-4c5a-f484-15b9aa48eb3e",
        "colab": {
          "base_uri": "https://localhost:8080/"
        }
      },
      "execution_count": 27,
      "outputs": [
        {
          "output_type": "stream",
          "name": "stdout",
          "text": [
            "Enter your PAN Card Number: bytp24356G\n",
            "Your Input is INCORRECT!\n",
            "Enter a valid number\n"
          ]
        }
      ]
    },
    {
      "cell_type": "code",
      "source": [
        "# SOLUTION #2\n",
        "pn_num = input(\"Enter your PAN Card Number: \")\n",
        "pn_num = pn_num.upper()\n",
        "if len(pn_num) == 10:\n",
        "    if pn_num.isalnum():\n",
        "        if pn_num[0:5].isalpha():\n",
        "            if pn_num[5:9].isdigit():\n",
        "                if pn_num[9].isalpha():\n",
        "                    print(f\"Your PAN CARD number \\\" {pan_num} \\\" satisfies all condition. Therefore  is VALID\")\n",
        "                else:\n",
        "                    print(f\"Your Input is INCORRECT!\")\n",
        "                    print(f\"Is your last DIGIT [*********X] ALPHABET?\")\n",
        "            else:\n",
        "                print(f\"Your Input is INCORRECT!\")\n",
        "                print(f\"Check if your Input numerical values \\\" *****XXXX* \\\" are in correct Position. \")\n",
        "        else:\n",
        "            print(f\"Your Input is INCORRECT!\")\n",
        "            print(f\"Check if your InpuT alphabetical values \\\" XXXXX***** \\\" are in correct Position. \")\n",
        "    else:\n",
        "        print(f\"Your Input is INCORRECT!\")\n",
        "        print(f\"Entered value is not ALPHANUMERIC!\")\n",
        "else:\n",
        "    print(f\"Your Input is INCORRECT!\")\n",
        "    print(f\"Entered a 10 digit number\")\n",
        "        \n"
      ],
      "metadata": {
        "id": "kKiaJQhTaayJ",
        "outputId": "c266409b-b91b-49ab-98f4-6c8236482ebf",
        "colab": {
          "base_uri": "https://localhost:8080/"
        }
      },
      "execution_count": 30,
      "outputs": [
        {
          "output_type": "stream",
          "name": "stdout",
          "text": [
            "Enter your PAN Card Number: asdfg12455\n",
            "Your Input is INCORRECT!\n",
            "Is your last DIGIT [*********X] ALPHABET?\n"
          ]
        }
      ]
    },
    {
      "cell_type": "code",
      "source": [],
      "metadata": {
        "id": "Mln8AcwLioOS"
      },
      "execution_count": null,
      "outputs": []
    }
  ]
}
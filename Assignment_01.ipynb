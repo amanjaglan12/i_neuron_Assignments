{
  "nbformat": 4,
  "nbformat_minor": 0,
  "metadata": {
    "colab": {
      "provenance": [],
      "collapsed_sections": [
        "CvNSsW1DHJXe",
        "7Y7SLEpGmd3h",
        "YYCNugI4nFCY",
        "zOI5gYbboCvA",
        "6qAb7d0lqSrJ"
      ],
      "toc_visible": true,
      "authorship_tag": "ABX9TyPHSqf70EfzJn6bKzjz7+q7",
      "include_colab_link": true
    },
    "kernelspec": {
      "name": "python3",
      "display_name": "Python 3"
    },
    "language_info": {
      "name": "python"
    }
  },
  "cells": [
    {
      "cell_type": "markdown",
      "metadata": {
        "id": "view-in-github",
        "colab_type": "text"
      },
      "source": [
        "<a href=\"https://colab.research.google.com/github/amanjaglan12/i_neuron_Assignments/blob/main/Assignment_01.ipynb\" target=\"_parent\"><img src=\"https://colab.research.google.com/assets/colab-badge.svg\" alt=\"Open In Colab\"/></a>"
      ]
    },
    {
      "cell_type": "markdown",
      "source": [
        "# **Class_Assignment  01**"
      ],
      "metadata": {
        "id": "LVjr1FhPGjpS"
      }
    },
    {
      "cell_type": "markdown",
      "source": [
        "##Q.No.1 *Find out all the types of error that we have encountered in our lecture and why? Also include the examples.*"
      ],
      "metadata": {
        "id": "CvNSsW1DHJXe"
      }
    },
    {
      "cell_type": "markdown",
      "source": [
        "1. Uppercase and Lowercase are diffrent therefore use 'print' & not 'Print or 'PRINT' this causes a **`NameError`**: 'name' is not defined"
      ],
      "metadata": {
        "id": "7Y7SLEpGmd3h"
      }
    },
    {
      "cell_type": "code",
      "execution_count": 29,
      "metadata": {
        "colab": {
          "base_uri": "https://localhost:8080/",
          "height": 182
        },
        "id": "eVHVFh94Ge82",
        "outputId": "caa0f368-4a6b-4d48-892d-992add12236f"
      },
      "outputs": [
        {
          "output_type": "error",
          "ename": "NameError",
          "evalue": "ignored",
          "traceback": [
            "\u001b[0;31m---------------------------------------------------------------------------\u001b[0m",
            "\u001b[0;31mNameError\u001b[0m                                 Traceback (most recent call last)",
            "\u001b[0;32m<ipython-input-29-ec85034bdc74>\u001b[0m in \u001b[0;36m<module>\u001b[0;34m\u001b[0m\n\u001b[1;32m      1\u001b[0m \u001b[0;31m# Uppercase and Lowercase are diffrent therefore use 'print' & not 'Print or 'PRINT'\u001b[0m\u001b[0;34m\u001b[0m\u001b[0;34m\u001b[0m\u001b[0;34m\u001b[0m\u001b[0m\n\u001b[0;32m----> 2\u001b[0;31m \u001b[0mPRINT\u001b[0m\u001b[0;34m(\u001b[0m\u001b[0;34m\"Good Evening\"\u001b[0m\u001b[0;34m)\u001b[0m\u001b[0;34m\u001b[0m\u001b[0;34m\u001b[0m\u001b[0m\n\u001b[0m",
            "\u001b[0;31mNameError\u001b[0m: name 'PRINT' is not defined"
          ]
        }
      ],
      "source": [
        "\n",
        "PRINT(\"Good Evening\") \n"
      ]
    },
    {
      "cell_type": "code",
      "source": [
        "Print(\"Good Evening\")\n"
      ],
      "metadata": {
        "colab": {
          "base_uri": "https://localhost:8080/",
          "height": 165
        },
        "id": "IwGnQ0WoeK4y",
        "outputId": "c69183d0-ea6b-47ea-f306-b4ef10e8f1ca"
      },
      "execution_count": 30,
      "outputs": [
        {
          "output_type": "error",
          "ename": "NameError",
          "evalue": "ignored",
          "traceback": [
            "\u001b[0;31m---------------------------------------------------------------------------\u001b[0m",
            "\u001b[0;31mNameError\u001b[0m                                 Traceback (most recent call last)",
            "\u001b[0;32m<ipython-input-30-35ceb22ef007>\u001b[0m in \u001b[0;36m<module>\u001b[0;34m\u001b[0m\n\u001b[0;32m----> 1\u001b[0;31m \u001b[0mPrint\u001b[0m\u001b[0;34m(\u001b[0m\u001b[0;34m\"Good Evening\"\u001b[0m\u001b[0;34m)\u001b[0m\u001b[0;34m\u001b[0m\u001b[0;34m\u001b[0m\u001b[0m\n\u001b[0m",
            "\u001b[0;31mNameError\u001b[0m: name 'Print' is not defined"
          ]
        }
      ]
    },
    {
      "cell_type": "code",
      "source": [
        "print(\"Good Evening\")"
      ],
      "metadata": {
        "colab": {
          "base_uri": "https://localhost:8080/"
        },
        "id": "-85M8AMNeRXl",
        "outputId": "610d50cf-c836-4960-bb07-f63966ebfbe1"
      },
      "execution_count": 42,
      "outputs": [
        {
          "output_type": "stream",
          "name": "stdout",
          "text": [
            "Good Evening\n"
          ]
        }
      ]
    },
    {
      "cell_type": "markdown",
      "source": [
        "2. str is created by using \" or ' else the code will get ERROR  \n",
        " example:   print(:Good Morning:), print(/Good Morning/) won't work"
      ],
      "metadata": {
        "id": "YYCNugI4nFCY"
      }
    },
    {
      "cell_type": "code",
      "source": [
        "print('Single commas')\n",
        "print(\"Double Comms only\")"
      ],
      "metadata": {
        "colab": {
          "base_uri": "https://localhost:8080/"
        },
        "id": "ugybUQKqkoRm",
        "outputId": "1c7717da-4e6d-4a62-805f-ecd616f9aaf0"
      },
      "execution_count": 43,
      "outputs": [
        {
          "output_type": "stream",
          "name": "stdout",
          "text": [
            "Single commas\n",
            "Double Comms only\n"
          ]
        }
      ]
    },
    {
      "cell_type": "markdown",
      "source": [
        "3. To print in multiple lines content needs to be written in-between triple commas \"\"\"content of print\"\"\""
      ],
      "metadata": {
        "id": "zOI5gYbboCvA"
      }
    },
    {
      "cell_type": "code",
      "source": [
        "print(\"Good \n",
        "morning\")"
      ],
      "metadata": {
        "colab": {
          "base_uri": "https://localhost:8080/",
          "height": 130
        },
        "id": "EAvjvc92h6_N",
        "outputId": "277ee0b7-75a3-424b-b52c-2e0de8fd4f6b"
      },
      "execution_count": 44,
      "outputs": [
        {
          "output_type": "error",
          "ename": "SyntaxError",
          "evalue": "ignored",
          "traceback": [
            "\u001b[0;36m  File \u001b[0;32m\"<ipython-input-44-f122ea326355>\"\u001b[0;36m, line \u001b[0;32m3\u001b[0m\n\u001b[0;31m    print(\"Good\u001b[0m\n\u001b[0m                ^\u001b[0m\n\u001b[0;31mSyntaxError\u001b[0m\u001b[0;31m:\u001b[0m EOL while scanning string literal\n"
          ]
        }
      ]
    },
    {
      "cell_type": "code",
      "source": [
        "print(\"\"\"Multiple line\n",
        "need Triple commas\"\"\")"
      ],
      "metadata": {
        "colab": {
          "base_uri": "https://localhost:8080/"
        },
        "id": "ERxNPwfxl9WG",
        "outputId": "ed7a8ddd-ab87-40c5-f7f8-1f94fb3a7462"
      },
      "execution_count": 46,
      "outputs": [
        {
          "output_type": "stream",
          "name": "stdout",
          "text": [
            "Multiple line\n",
            "need Triple commas\n"
          ]
        }
      ]
    },
    {
      "cell_type": "markdown",
      "source": [
        "4. To use \" or ' within the str either change the commas alternatively or use / or triple commas\n",
        "  example:"
      ],
      "metadata": {
        "id": "NqsULraMqzkA"
      }
    },
    {
      "cell_type": "code",
      "source": [
        "print('This is 'SPARTA'')"
      ],
      "metadata": {
        "colab": {
          "base_uri": "https://localhost:8080/",
          "height": 130
        },
        "id": "CT6W3kZChhgt",
        "outputId": "ee79ed5b-4481-4c88-ce60-713185973ee2"
      },
      "execution_count": 47,
      "outputs": [
        {
          "output_type": "error",
          "ename": "SyntaxError",
          "evalue": "ignored",
          "traceback": [
            "\u001b[0;36m  File \u001b[0;32m\"<ipython-input-47-7cd40bc84383>\"\u001b[0;36m, line \u001b[0;32m1\u001b[0m\n\u001b[0;31m    print('This is 'SPARTA'')\u001b[0m\n\u001b[0m                         ^\u001b[0m\n\u001b[0;31mSyntaxError\u001b[0m\u001b[0;31m:\u001b[0m invalid syntax\n"
          ]
        }
      ]
    },
    {
      "cell_type": "code",
      "source": [
        "print(\"This is 'SPARTA'\")\n",
        "print('This is \\'SPARTA\\' ')\n",
        "print('''This is 'SPARTA' ''') # Best Method since its the same as for writing multiple lines"
      ],
      "metadata": {
        "colab": {
          "base_uri": "https://localhost:8080/"
        },
        "id": "R0GLG_HwrLRX",
        "outputId": "6ff05aab-ff84-4351-e8a7-71bf627b8436"
      },
      "execution_count": 51,
      "outputs": [
        {
          "output_type": "stream",
          "name": "stdout",
          "text": [
            "This is 'SPARTA'\n",
            "This is 'SPARTA' \n",
            "This is 'SPARTA' \n"
          ]
        }
      ]
    },
    {
      "cell_type": "markdown",
      "source": [
        "5. VARIABLES names do not conatain special character and can contain numbers but you can't start with numbers\n",
        "\n",
        "    example !,@,#,%,$,&,*,12name\n",
        "\n"
      ],
      "metadata": {
        "id": "Xz8RQ8IOt0tP"
      }
    },
    {
      "cell_type": "code",
      "source": [
        "x* = 10"
      ],
      "metadata": {
        "colab": {
          "base_uri": "https://localhost:8080/",
          "height": 130
        },
        "id": "uoafpMantItZ",
        "outputId": "a559ad9b-21bc-4d72-bdbd-8f9d6a054674"
      },
      "execution_count": 52,
      "outputs": [
        {
          "output_type": "error",
          "ename": "SyntaxError",
          "evalue": "ignored",
          "traceback": [
            "\u001b[0;36m  File \u001b[0;32m\"<ipython-input-52-ba91814f195d>\"\u001b[0;36m, line \u001b[0;32m1\u001b[0m\n\u001b[0;31m    x* = 10\u001b[0m\n\u001b[0m       ^\u001b[0m\n\u001b[0;31mSyntaxError\u001b[0m\u001b[0;31m:\u001b[0m invalid syntax\n"
          ]
        }
      ]
    },
    {
      "cell_type": "code",
      "source": [
        "%x = 10"
      ],
      "metadata": {
        "colab": {
          "base_uri": "https://localhost:8080/"
        },
        "id": "v5zm2dIBwELF",
        "outputId": "c3ca2a2e-555c-4842-fdd3-1793b125208b"
      },
      "execution_count": 53,
      "outputs": [
        {
          "output_type": "stream",
          "name": "stderr",
          "text": [
            "UsageError: Line magic function `%x` not found.\n"
          ]
        }
      ]
    },
    {
      "cell_type": "code",
      "source": [
        "$x = 10"
      ],
      "metadata": {
        "colab": {
          "base_uri": "https://localhost:8080/",
          "height": 130
        },
        "id": "kXY6c6yRwMMq",
        "outputId": "e7513c8c-eeaa-4306-b296-8038ad7cfb42"
      },
      "execution_count": 54,
      "outputs": [
        {
          "output_type": "error",
          "ename": "SyntaxError",
          "evalue": "ignored",
          "traceback": [
            "\u001b[0;36m  File \u001b[0;32m\"<ipython-input-54-fee464756807>\"\u001b[0;36m, line \u001b[0;32m1\u001b[0m\n\u001b[0;31m    $x = 10\u001b[0m\n\u001b[0m    ^\u001b[0m\n\u001b[0;31mSyntaxError\u001b[0m\u001b[0;31m:\u001b[0m invalid syntax\n"
          ]
        }
      ]
    },
    {
      "cell_type": "code",
      "source": [
        "x%variable = 10 "
      ],
      "metadata": {
        "colab": {
          "base_uri": "https://localhost:8080/",
          "height": 130
        },
        "id": "1qWmY6HuwhGl",
        "outputId": "2d42673d-9f5f-457c-fcfb-04c4cec9287f"
      },
      "execution_count": 55,
      "outputs": [
        {
          "output_type": "error",
          "ename": "SyntaxError",
          "evalue": "ignored",
          "traceback": [
            "\u001b[0;36m  File \u001b[0;32m\"<ipython-input-55-feb5b1a0757e>\"\u001b[0;36m, line \u001b[0;32m1\u001b[0m\n\u001b[0;31m    x%variable = 10\u001b[0m\n\u001b[0m                   ^\u001b[0m\n\u001b[0;31mSyntaxError\u001b[0m\u001b[0;31m:\u001b[0m can't assign to operator\n"
          ]
        }
      ]
    },
    {
      "cell_type": "code",
      "source": [
        "x10 =100 #number in end so it worked\n",
        "10ten = 10 #started with number so it failed. Error in line 2"
      ],
      "metadata": {
        "colab": {
          "base_uri": "https://localhost:8080/",
          "height": 130
        },
        "id": "zndWs1tywTcJ",
        "outputId": "ee7ee946-c72f-4425-dd8d-5e45d641bc0b"
      },
      "execution_count": 59,
      "outputs": [
        {
          "output_type": "error",
          "ename": "SyntaxError",
          "evalue": "ignored",
          "traceback": [
            "\u001b[0;36m  File \u001b[0;32m\"<ipython-input-59-7beaebb2221e>\"\u001b[0;36m, line \u001b[0;32m2\u001b[0m\n\u001b[0;31m    10ten = 10 #started with number so it failed. Error in line 2\u001b[0m\n\u001b[0m        ^\u001b[0m\n\u001b[0;31mSyntaxError\u001b[0m\u001b[0;31m:\u001b[0m invalid syntax\n"
          ]
        }
      ]
    },
    {
      "cell_type": "code",
      "source": [
        "X 10 = 100 #variable name don't contain 'space' between them "
      ],
      "metadata": {
        "colab": {
          "base_uri": "https://localhost:8080/",
          "height": 130
        },
        "id": "XZoDsBoMxbbw",
        "outputId": "63c3285f-bb97-427c-cfb9-b088583a55af"
      },
      "execution_count": 60,
      "outputs": [
        {
          "output_type": "error",
          "ename": "SyntaxError",
          "evalue": "ignored",
          "traceback": [
            "\u001b[0;36m  File \u001b[0;32m\"<ipython-input-60-4f7822c25607>\"\u001b[0;36m, line \u001b[0;32m1\u001b[0m\n\u001b[0;31m    X 10 = 100\u001b[0m\n\u001b[0m       ^\u001b[0m\n\u001b[0;31mSyntaxError\u001b[0m\u001b[0;31m:\u001b[0m invalid syntax\n"
          ]
        }
      ]
    },
    {
      "cell_type": "code",
      "source": [
        "X10 = 100 #no space. hence working"
      ],
      "metadata": {
        "id": "vra8d7N_ySoH"
      },
      "execution_count": 61,
      "outputs": []
    },
    {
      "cell_type": "markdown",
      "source": [
        "6. Can only add str to str"
      ],
      "metadata": {
        "id": "Qv1fG_IA0xap"
      }
    },
    {
      "cell_type": "code",
      "source": [
        "\"one\"+2 \n",
        "'1'+2 # although 1 is numerical but it's treated as str"
      ],
      "metadata": {
        "colab": {
          "base_uri": "https://localhost:8080/",
          "height": 182
        },
        "id": "ndHUc8hgyfZV",
        "outputId": "8fed5feb-ab72-4b2c-efe0-c4e601b1f5a5"
      },
      "execution_count": 73,
      "outputs": [
        {
          "output_type": "error",
          "ename": "TypeError",
          "evalue": "ignored",
          "traceback": [
            "\u001b[0;31m---------------------------------------------------------------------------\u001b[0m",
            "\u001b[0;31mTypeError\u001b[0m                                 Traceback (most recent call last)",
            "\u001b[0;32m<ipython-input-73-bec9abb68f36>\u001b[0m in \u001b[0;36m<module>\u001b[0;34m\u001b[0m\n\u001b[0;32m----> 1\u001b[0;31m \u001b[0;34m\"one\"\u001b[0m\u001b[0;34m+\u001b[0m\u001b[0;36m2\u001b[0m\u001b[0;34m\u001b[0m\u001b[0;34m\u001b[0m\u001b[0m\n\u001b[0m\u001b[1;32m      2\u001b[0m \u001b[0;34m'1'\u001b[0m\u001b[0;34m+\u001b[0m\u001b[0;36m2\u001b[0m\u001b[0;34m\u001b[0m\u001b[0;34m\u001b[0m\u001b[0m\n",
            "\u001b[0;31mTypeError\u001b[0m: can only concatenate str (not \"int\") to str"
          ]
        }
      ]
    },
    {
      "cell_type": "code",
      "source": [
        "'one'+'2'"
      ],
      "metadata": {
        "colab": {
          "base_uri": "https://localhost:8080/",
          "height": 36
        },
        "id": "CK2K5t_p1MlV",
        "outputId": "778d1ad4-a4ba-4c20-db94-4af187bc6b40"
      },
      "execution_count": 75,
      "outputs": [
        {
          "output_type": "execute_result",
          "data": {
            "text/plain": [
              "'one2'"
            ],
            "application/vnd.google.colaboratory.intrinsic+json": {
              "type": "string"
            }
          },
          "metadata": {},
          "execution_count": 75
        }
      ]
    },
    {
      "cell_type": "code",
      "source": [
        "45+56.5 # possible to link int and float "
      ],
      "metadata": {
        "colab": {
          "base_uri": "https://localhost:8080/"
        },
        "id": "nsQiBurP1w7p",
        "outputId": "ab3edf9c-3f8f-43d3-b9b9-18321b772d7b"
      },
      "execution_count": 72,
      "outputs": [
        {
          "output_type": "execute_result",
          "data": {
            "text/plain": [
              "101.5"
            ]
          },
          "metadata": {},
          "execution_count": 72
        }
      ]
    },
    {
      "cell_type": "code",
      "source": [
        "\"AMAN\" + \" Jaglan\""
      ],
      "metadata": {
        "colab": {
          "base_uri": "https://localhost:8080/",
          "height": 36
        },
        "id": "y1Fac5bg1zv8",
        "outputId": "18edd615-f89b-49a1-da57-7a979f3f4809"
      },
      "execution_count": 84,
      "outputs": [
        {
          "output_type": "execute_result",
          "data": {
            "text/plain": [
              "'AMAN Jaglan'"
            ],
            "application/vnd.google.colaboratory.intrinsic+json": {
              "type": "string"
            }
          },
          "metadata": {},
          "execution_count": 84
        }
      ]
    },
    {
      "cell_type": "markdown",
      "source": [
        "7. Don't Use resticted words as variable names as they will loose their operation as functions\n",
        "\n",
        "Example: "
      ],
      "metadata": {
        "id": "cxU59WHP6udq"
      }
    },
    {
      "cell_type": "code",
      "source": [
        "type = 78 #changend 'type' function to a variable\n",
        "print(type)"
      ],
      "metadata": {
        "colab": {
          "base_uri": "https://localhost:8080/"
        },
        "id": "tsa9J2Of6saC",
        "outputId": "b6ca48eb-81ef-4a0a-fa21-9bc1f2fcc5d9"
      },
      "execution_count": 85,
      "outputs": [
        {
          "output_type": "stream",
          "name": "stdout",
          "text": [
            "78\n"
          ]
        }
      ]
    },
    {
      "cell_type": "code",
      "source": [
        "one2 = 12\n",
        "type(one2) # type has lost its function"
      ],
      "metadata": {
        "colab": {
          "base_uri": "https://localhost:8080/",
          "height": 182
        },
        "id": "7LnshGSl8rOh",
        "outputId": "9a42fadc-0d2f-4f19-d3ff-63a10bdb341f"
      },
      "execution_count": 86,
      "outputs": [
        {
          "output_type": "error",
          "ename": "TypeError",
          "evalue": "ignored",
          "traceback": [
            "\u001b[0;31m---------------------------------------------------------------------------\u001b[0m",
            "\u001b[0;31mTypeError\u001b[0m                                 Traceback (most recent call last)",
            "\u001b[0;32m<ipython-input-86-2bd4143dcd84>\u001b[0m in \u001b[0;36m<module>\u001b[0;34m\u001b[0m\n\u001b[1;32m      1\u001b[0m \u001b[0mone2\u001b[0m \u001b[0;34m=\u001b[0m \u001b[0;36m12\u001b[0m\u001b[0;34m\u001b[0m\u001b[0;34m\u001b[0m\u001b[0m\n\u001b[0;32m----> 2\u001b[0;31m \u001b[0mtype\u001b[0m\u001b[0;34m(\u001b[0m\u001b[0mone2\u001b[0m\u001b[0;34m)\u001b[0m\u001b[0;34m\u001b[0m\u001b[0;34m\u001b[0m\u001b[0m\n\u001b[0m",
            "\u001b[0;31mTypeError\u001b[0m: 'int' object is not callable"
          ]
        }
      ]
    },
    {
      "cell_type": "code",
      "source": [
        "del type #deleted type as a variable"
      ],
      "metadata": {
        "id": "biK0uXtK9BdL"
      },
      "execution_count": 87,
      "outputs": []
    },
    {
      "cell_type": "code",
      "source": [
        "type(one2) # type working agian"
      ],
      "metadata": {
        "colab": {
          "base_uri": "https://localhost:8080/"
        },
        "id": "WPwIwGGv9RtN",
        "outputId": "30613000-b8ef-4618-e28b-0d83b0223e0c"
      },
      "execution_count": 88,
      "outputs": [
        {
          "output_type": "execute_result",
          "data": {
            "text/plain": [
              "int"
            ]
          },
          "metadata": {},
          "execution_count": 88
        }
      ]
    },
    {
      "cell_type": "markdown",
      "source": [
        "##Q.No.2 *Take input A and B and print their sum, mul, div, square of the nos.* "
      ],
      "metadata": {
        "id": "jaA_LW6VHzga"
      }
    },
    {
      "cell_type": "code",
      "source": [
        "\n",
        "A = int(input(\"Enter the First input \")) # confirm if the output is int and not str\n",
        "B = int(input(\"Enter the Second input \"))\n",
        "type(A)\n",
        "type(B) # Use print or output will only show the last "
      ],
      "metadata": {
        "colab": {
          "base_uri": "https://localhost:8080/"
        },
        "id": "QdMflepRDY0C",
        "outputId": "af12eb44-3bae-4f5c-ab42-fb599e527d1a"
      },
      "execution_count": 91,
      "outputs": [
        {
          "name": "stdout",
          "output_type": "stream",
          "text": [
            "Enter the First input 45\n",
            "Enter the Second input 75\n"
          ]
        },
        {
          "output_type": "execute_result",
          "data": {
            "text/plain": [
              "int"
            ]
          },
          "metadata": {},
          "execution_count": 91
        }
      ]
    },
    {
      "cell_type": "code",
      "source": [
        "A = int(input(\"Enter the First input: \"))# make sure input is in int\n",
        "B = int(input(\"Enter the Second input: \"))\n",
        "print(f\"\"\"Sum of Inputs is: {A+B}\n",
        "Mul. of Inputs is: {A*B}\n",
        "Div. of Inputs is: {A/B}\n",
        "sq of Input A is: {A**2}\n",
        "sq. of Input B is: {B**2}\"\"\")"
      ],
      "metadata": {
        "colab": {
          "base_uri": "https://localhost:8080/"
        },
        "id": "l2B80_XQDnF6",
        "outputId": "03520f74-648f-4aa7-e00b-2d49fe238f58"
      },
      "execution_count": 92,
      "outputs": [
        {
          "output_type": "stream",
          "name": "stdout",
          "text": [
            "Enter the First input: 21\n",
            "Enter the Second input: 30\n",
            "Sum of Inputs is: 51\n",
            "Mul. of Inputs is: 630\n",
            "Div. of Inputs is: 0.7\n",
            "sq of Input A is: 441\n",
            "sq. of Input B is: 900\n"
          ]
        }
      ]
    },
    {
      "cell_type": "markdown",
      "source": [
        "##*Q.no.3 How many reserve keywords are there in python and why we should not use them as a variable name.*"
      ],
      "metadata": {
        "id": "KhrY0VFREEo2"
      }
    },
    {
      "cell_type": "markdown",
      "source": [
        "\n",
        "> Answer--> There are 35 keywords in Python 3 latest version.                                                                 \n",
        "     The Python language reserves a small set of keywords that designate special language functionality. No object can have the same name as a reserved word. We can find these reserved keywords using the command below."
      ],
      "metadata": {
        "id": "QxPzQnjrEiaM"
      }
    },
    {
      "cell_type": "code",
      "source": [
        "# find reserved keywords with the 'help(\"keywords\")' command\n",
        "res_keyword = help(\"keywords\")\n",
        "print(res_keyword)"
      ],
      "metadata": {
        "id": "dy58_OEbKwFH"
      },
      "execution_count": null,
      "outputs": []
    },
    {
      "cell_type": "code",
      "source": [
        "reserved_word = input(\"Entered the Word:  \")\n",
        "\n",
        "print(\"\"\"Details regarding the Keyword is :\n",
        "--------------------------------\"\"\")\n",
        "print(f\"\"\"{help(reserved_word)}\"\"\")"
      ],
      "metadata": {
        "id": "-TxqjJNOR4y0"
      },
      "execution_count": null,
      "outputs": []
    },
    {
      "cell_type": "markdown",
      "source": [
        "##*Q.No.4 Create email ids with the user inputs. in the following format - lastname.firstname@gmail.com*"
      ],
      "metadata": {
        "id": "v76pBGw1XhNq"
      }
    },
    {
      "cell_type": "code",
      "source": [
        "firstname, lastname = input(\"Enter Your First Name:  \"), input(\"Enter Your Last Name:  \")\n",
        "print(f\"\"\"Your created e-mail id is:\n",
        "{lastname}.{firstname}@gmail.com\"\"\")"
      ],
      "metadata": {
        "colab": {
          "base_uri": "https://localhost:8080/"
        },
        "id": "BA3qFSSFT87j",
        "outputId": "807b0e75-d085-47d9-9b3f-fac8b6e4816e"
      },
      "execution_count": 9,
      "outputs": [
        {
          "output_type": "stream",
          "name": "stdout",
          "text": [
            "Enter Your First Name:  Rocky\n",
            "Enter Your Last Name:  Balboa\n",
            "Your created e-mail id is:\n",
            "Balboa.Rocky@gmail.com\n"
          ]
        }
      ]
    },
    {
      "cell_type": "markdown",
      "source": [
        "##*Q.No.5 Try to print the following lines* - \n",
        "  - Hi I'm Sunny\n",
        "  - My address is 22\\3 \n",
        "  - I earn 20$ daily."
      ],
      "metadata": {
        "id": "3MmNxjucZOIw"
      }
    },
    {
      "cell_type": "code",
      "source": [
        "name = input(\"your Name  \")\n",
        "address = input(\"House number  \")\n",
        "wages = input(\"How much you earn  \")\n",
        "print(f\"\"\"     Hi I'm {name}\n",
        "     My address is {address}\n",
        "     I earn {wages}$ daily \"\"\")"
      ],
      "metadata": {
        "id": "biE9D6PGZFNE"
      },
      "execution_count": null,
      "outputs": []
    },
    {
      "cell_type": "markdown",
      "source": [
        "##Q.No.6 Take user input (name, address, date of birth etc) to fill a form for your college and print their email IDs"
      ],
      "metadata": {
        "id": "m8Jq5TXmdm4_"
      }
    },
    {
      "cell_type": "code",
      "source": [
        "Firstname = input(\"Student's Name: \")\n",
        "Lastname = input(\"Student's LastName: \")\n",
        "address = input(\"Student's Address: \")\n",
        "date_of_birth_date = input(\"Student's BirthDate: \")\n",
        "date_of_birth_month = input(\"Student's Birth month: \")\n",
        "date_of_birth_year = input(\"Student's Birthyear: \")\n",
        "print(f\"\"\"Student's College Enrollment Form Details:\n",
        "Name: {Firstname} {Lastname}\n",
        "ADDRESS: {address}\n",
        "Date Of Birth: {date_of_birth_date}\\ {date_of_birth_month}\\ {date_of_birth_year}\n",
        "Current age: {2022 - int(date_of_birth_year)}\n",
        "E-Mail ID: {Lastname}.{Firstname}{date_of_birth_date}{date_of_birth_month}@gmail.com\"\"\")"
      ],
      "metadata": {
        "id": "v3NCTtyyoGS2"
      },
      "execution_count": null,
      "outputs": []
    },
    {
      "cell_type": "markdown",
      "source": [
        "##Q.No.7 Convert the following - \n",
        "  - \"22.4\" into integer\n",
        "  - \"22\" into complex no."
      ],
      "metadata": {
        "id": "6qAb7d0lqSrJ"
      }
    },
    {
      "cell_type": "code",
      "source": [
        "# PArt 1\n",
        "x = 22.4 # convert datatype from float to int   \n",
        "print(f\"\"\"Datatype before was: {x} {type(x)}\n",
        "Dataype after conversion is: {int(x)} {type(int(x))} \"\"\")"
      ],
      "metadata": {
        "colab": {
          "base_uri": "https://localhost:8080/"
        },
        "id": "bVqDM4Q4prdp",
        "outputId": "849b7054-e6e3-40cd-d199-f41749f24600"
      },
      "execution_count": 16,
      "outputs": [
        {
          "output_type": "stream",
          "name": "stdout",
          "text": [
            "Datatype before was: 22.4 <class 'float'>\n",
            "Dataype after conversion is: 22 <class 'int'> \n"
          ]
        }
      ]
    },
    {
      "cell_type": "code",
      "source": [
        "# Part 2\n",
        "y = 22\n",
        "m = complex(y) # checked the conversion\n",
        "print(f\"\"\"Initial Datatype:{y} which was {type(y)}\n",
        "After Conversion it became {m} which is {type(m)}\"\"\")"
      ],
      "metadata": {
        "colab": {
          "base_uri": "https://localhost:8080/"
        },
        "id": "QrvGCAABsz4b",
        "outputId": "8cc147f2-3b2d-41c9-8ce4-54b7797cc1b8"
      },
      "execution_count": 21,
      "outputs": [
        {
          "output_type": "stream",
          "name": "stdout",
          "text": [
            "Initial Datatype:22 which was <class 'int'>\n",
            "After Conversion it became (22+0j) which is <class 'complex'>\n"
          ]
        }
      ]
    },
    {
      "cell_type": "code",
      "source": [],
      "metadata": {
        "id": "Ti6vZY6EtxJC"
      },
      "execution_count": null,
      "outputs": []
    }
  ]
}